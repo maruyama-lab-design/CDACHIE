{
 "cells": [
  {
   "cell_type": "code",
   "execution_count": null,
   "metadata": {},
   "outputs": [
    {
     "name": "stdout",
     "output_type": "stream",
     "text": [
      "BED file saved to data/cluster/CDACHIE.bed\n"
     ]
    }
   ],
   "source": [
    "import pandas as pd\n",
    "import seaborn as sns\n",
    "\n",
    "def csv_to_bed(csv_file, output_bed_file, name_column=\"CDACHIE\", window_size=100000, num_clusters=6):\n",
    "   \"\"\"\n",
    "   Function to convert a CSV file to a BED file.\n",
    "\n",
    "   Args:\n",
    "       csv_file (str): Input CSV file path.\n",
    "       output_bed_file (str): Output BED file path.\n",
    "       name_column (str): Name of the CSV column to use for the name column in the BED file.\n",
    "                          Default is \"CDACHIE\".\n",
    "       window_size (int): Window size. Default is 100000.\n",
    "       num_clusters (int): Number of clusters. Default is 6.\n",
    "   \"\"\"\n",
    "\n",
    "   df = pd.read_csv(csv_file)\n",
    "\n",
    "   # Prepare color palette (using seaborn)\n",
    "   colors = sns.color_palette(\"tab10\")  # tab10 color palette\n",
    "   colors_rgb = [(int(r * 255), int(g * 255), int(b * 255)) for r, g, b in colors]\n",
    "\n",
    "   df[\"itemRgb\"] = df[name_column].apply(lambda x: \",\".join(map(str, colors_rgb[int(x) % len(colors_rgb)])))\n",
    "\n",
    "   # Prepare columns needed for the BED file\n",
    "   df[\"chromStart\"] = df[\"pos\"]\n",
    "   df[\"chromEnd\"] = df[\"pos\"] + window_size\n",
    "\n",
    "   df[\"score\"] = \".\"\n",
    "   df[\"strand\"] = \".\"\n",
    "   df[\"thickStart\"] = df[\"chromStart\"]\n",
    "   df[\"thickEnd\"] = df[\"chromEnd\"]\n",
    "\n",
    "   # Change name column to C1~C6\n",
    "   df[\"name\"] = df[name_column].apply(lambda x: f\"C{int(x) + 1}\")\n",
    "\n",
    "   # Change chr column to \"chr[number]\" format\n",
    "   df[\"chr\"] = df[\"chr\"].astype(str).apply(lambda x: f\"chr{x}\")\n",
    "\n",
    "   # Output as BED file (BED9 format)\n",
    "   df_bed = df[[\"chr\", \"chromStart\", \"chromEnd\", \"name\", \"score\", \"strand\", \"thickStart\", \"thickEnd\", \"itemRgb\"]]\n",
    "\n",
    "   df_bed.to_csv(output_bed_file, sep=\"\\t\", index=False, header=False)\n",
    "\n",
    "   print(f\"BED file saved to {output_bed_file}\")\n",
    "\n",
    "\n",
    "# Usage example\n",
    "csv_file = \"data/cluster/clusters.csv\"\n",
    "output_bed_file = \"data/cluster/CDACHIE.bed\"\n",
    "csv_to_bed(csv_file, output_bed_file)"
   ]
  }
 ],
 "metadata": {
  "kernelspec": {
   "display_name": "deeplearning",
   "language": "python",
   "name": "python3"
  },
  "language_info": {
   "codemirror_mode": {
    "name": "ipython",
    "version": 3
   },
   "file_extension": ".py",
   "mimetype": "text/x-python",
   "name": "python",
   "nbconvert_exporter": "python",
   "pygments_lexer": "ipython3",
   "version": "3.10.13"
  }
 },
 "nbformat": 4,
 "nbformat_minor": 2
}

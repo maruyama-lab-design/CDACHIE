{
 "cells": [
  {
   "cell_type": "markdown",
   "metadata": {},
   "source": [
    "### Step 1: Download BigWig Files"
   ]
  },
  {
   "cell_type": "code",
   "execution_count": null,
   "metadata": {},
   "outputs": [],
   "source": [
    "!wget -nc -P ./data/feature/ https://egg2.wustl.edu/roadmap/data/byFileType/signal/consolidated/macs2signal/foldChange/E116-DNase.fc.signal.bigwig\n",
    "!wget -nc -P ./data/feature/ https://egg2.wustl.edu/roadmap/data/byFileType/signal/consolidated/macs2signal/foldChange/E116-H2A.Z.fc.signal.bigwig\n",
    "!wget -nc -P ./data/feature/ https://egg2.wustl.edu/roadmap/data/byFileType/signal/consolidated/macs2signal/foldChange/E116-H3K4me1.fc.signal.bigwig\n",
    "!wget -nc -P ./data/feature/ https://egg2.wustl.edu/roadmap/data/byFileType/signal/consolidated/macs2signal/foldChange/E116-H3K4me2.fc.signal.bigwig\n",
    "!wget -nc -P ./data/feature/ https://egg2.wustl.edu/roadmap/data/byFileType/signal/consolidated/macs2signal/foldChange/E116-H3K4me3.fc.signal.bigwig\n",
    "!wget -nc -P ./data/feature/ https://egg2.wustl.edu/roadmap/data/byFileType/signal/consolidated/macs2signal/foldChange/E116-H3K9ac.fc.signal.bigwig\n",
    "!wget -nc -P ./data/feature/ https://egg2.wustl.edu/roadmap/data/byFileType/signal/consolidated/macs2signal/foldChange/E116-H3K9me3.fc.signal.bigwig\n",
    "!wget -nc -P ./data/feature/ https://egg2.wustl.edu/roadmap/data/byFileType/signal/consolidated/macs2signal/foldChange/E116-H3K27ac.fc.signal.bigwig\n",
    "!wget -nc -P ./data/feature/ https://egg2.wustl.edu/roadmap/data/byFileType/signal/consolidated/macs2signal/foldChange/E116-H3K27me3.fc.signal.bigwig\n",
    "!wget -nc -P ./data/feature/ https://egg2.wustl.edu/roadmap/data/byFileType/signal/consolidated/macs2signal/foldChange/E116-H3K36me3.fc.signal.bigwig\n",
    "!wget -nc -P ./data/feature/ https://egg2.wustl.edu/roadmap/data/byFileType/signal/consolidated/macs2signal/foldChange/E116-H3K79me2.fc.signal.bigwig\n",
    "!wget -nc -P ./data/feature/ https://egg2.wustl.edu/roadmap/data/byFileType/signal/consolidated/macs2signal/foldChange/E116-H4K20me1.fc.signal.bigwig"
   ]
  },
  {
   "cell_type": "markdown",
   "metadata": {},
   "source": [
    "### Step2: Process BigWig Files to Generate Epigenomic Signals"
   ]
  },
  {
   "cell_type": "code",
   "execution_count": 3,
   "metadata": {},
   "outputs": [
    {
     "name": "stderr",
     "output_type": "stream",
     "text": [
      "100%|██████████| 12/12 [24:10<00:00, 120.90s/it]\n"
     ]
    }
   ],
   "source": [
    "import os\n",
    "import pyBigWig\n",
    "import pandas as pd\n",
    "import numpy as np\n",
    "from tqdm import tqdm\n",
    "\n",
    "\n",
    "input_file_list = ['data/input/epigenomic_feature/E116-DNase.fc.signal.bigwig',\n",
    "                   'data/input/epigenomic_feature/E116-H3K36me3.fc.signal.bigwig',\n",
    "                   'data/input/epigenomic_feature/E116-H3K27me3.fc.signal.bigwig',\n",
    "                   'data/input/epigenomic_feature/E116-H3K9me3.fc.signal.bigwig',\n",
    "                   'data/input/epigenomic_feature/E116-H4K20me1.fc.signal.bigwig',\n",
    "                   'data/input/epigenomic_feature/E116-H2A.Z.fc.signal.bigwig',\n",
    "                   'data/input/epigenomic_feature/E116-H3K27ac.fc.signal.bigwig',\n",
    "                   'data/input/epigenomic_feature/E116-H3K4me1.fc.signal.bigwig',\n",
    "                   'data/input/epigenomic_feature/E116-H3K4me2.fc.signal.bigwig',\n",
    "                   'data/input/epigenomic_feature/E116-H3K4me3.fc.signal.bigwig',\n",
    "                   'data/input/epigenomic_feature/E116-H3K79me2.fc.signal.bigwig',\n",
    "                   'data/input/epigenomic_feature/E116-H3K9ac.fc.signal.bigwig']\n",
    "\n",
    "bins_file = 'data/input/epigenomic_feature/GM12878_100000_bins.txt'\n",
    "bins = pd.read_csv(bins_file)\n",
    "bins = np.array(bins)\n",
    "\n",
    "\n",
    "\n",
    "results = np.zeros((len(input_file_list), len(bins), 100), dtype=np.float32)\n",
    "\n",
    "for i, file_path in enumerate(tqdm(input_file_list)):\n",
    "    bw = pyBigWig.open(file_path)\n",
    "    for j, bin_info in enumerate(bins):\n",
    "        chrom, start = bin_info\n",
    "        end = min(start+100000, bw.chroms(chrom))\n",
    "        values = np.nan_to_num(bw.values(chrom, start, end)) # shape: (100000,)\n",
    "        values = np.pad(values, (0, 100000-len(values)), 'constant', constant_values=0) # shape: (100000,)\n",
    "        windowed_means = np.array([np.mean(values[k:k+1000]) for k in range(0, len(values), 1000)]) # shape: (100,)\n",
    "        results[i, j] = windowed_means # final shape: (n_files, n_bins, 100)\n",
    "    bw.close()\n",
    "\n",
    "# reshape the results to (n_bins, 100, n_files)\n",
    "results = np.transpose(results, (1, 2, 0))\n",
    "\n",
    "# save\n",
    "np.save('data/input/epigenomic_feature/signals_1kb.npy', results)"
   ]
  }
 ],
 "metadata": {
  "kernelspec": {
   "display_name": "CDACHIE",
   "language": "python",
   "name": "python3"
  },
  "language_info": {
   "codemirror_mode": {
    "name": "ipython",
    "version": 3
   },
   "file_extension": ".py",
   "mimetype": "text/x-python",
   "name": "python",
   "nbconvert_exporter": "python",
   "pygments_lexer": "ipython3",
   "version": "3.11.11"
  }
 },
 "nbformat": 4,
 "nbformat_minor": 2
}
